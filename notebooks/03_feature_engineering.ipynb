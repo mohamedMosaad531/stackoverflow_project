{
 "cells": [
  {
   "cell_type": "code",
   "execution_count": 1,
   "metadata": {},
   "outputs": [],
   "source": [
    "import numpy as np\n",
    "import pandas as pd\n",
    "import seaborn as sns\n",
    "import matplotlib.pyplot as plt\n",
    "import plotly.express as px\n",
    "import plotly.graph_objs as go\n",
    "from sklearn.preprocessing import MultiLabelBinarizer\n",
    "from sklearn.preprocessing import StandardScaler\n",
    "\n",
    "from sklearn.manifold import TSNE\n",
    "from sklearn.metrics import silhouette_score\n",
    "from sklearn.cluster import AgglomerativeClustering"
   ]
  },
  {
   "cell_type": "code",
   "execution_count": 2,
   "metadata": {},
   "outputs": [],
   "source": [
    "DF_PATH=\"..\\data\\processed\\dataframe.pkl\"\n",
    "FIG_DIR=r\"..\\reports\\figures\"\n",
    "EXPORT_FEATURES_DIR='..\\data\\processed'"
   ]
  },
  {
   "cell_type": "code",
   "execution_count": 3,
   "metadata": {},
   "outputs": [
    {
     "data": {
      "text/plain": [
       "Index(['ResponseId', 'MainBranch', 'Employment', 'Country', 'US_State',\n",
       "       'UK_Country', 'EdLevel', 'Age1stCode', 'LearnCode', 'YearsCode',\n",
       "       'YearsCodePro', 'DevType', 'OrgSize', 'Currency', 'CompTotal',\n",
       "       'CompFreq', 'LanguageHaveWorkedWith', 'LanguageWantToWorkWith',\n",
       "       'DatabaseHaveWorkedWith', 'DatabaseWantToWorkWith',\n",
       "       'PlatformHaveWorkedWith', 'PlatformWantToWorkWith',\n",
       "       'WebframeHaveWorkedWith', 'WebframeWantToWorkWith',\n",
       "       'MiscTechHaveWorkedWith', 'MiscTechWantToWorkWith',\n",
       "       'ToolsTechHaveWorkedWith', 'ToolsTechWantToWorkWith',\n",
       "       'NEWCollabToolsHaveWorkedWith', 'NEWCollabToolsWantToWorkWith', 'OpSys',\n",
       "       'NEWStuck', 'NEWSOSites', 'SOVisitFreq', 'SOAccount', 'SOPartFreq',\n",
       "       'SOComm', 'NEWOtherComms', 'Age', 'Gender', 'Trans', 'Sexuality',\n",
       "       'Ethnicity', 'Accessibility', 'MentalHealth', 'SurveyLength',\n",
       "       'SurveyEase', 'ConvertedCompYearly'],\n",
       "      dtype='object')"
      ]
     },
     "execution_count": 3,
     "metadata": {},
     "output_type": "execute_result"
    }
   ],
   "source": [
    "raw_df=pd.read_pickle(DF_PATH)\n",
    "\n",
    "df=raw_df.copy()\n",
    "raw_df.columns"
   ]
  },
  {
   "cell_type": "code",
   "execution_count": 4,
   "metadata": {},
   "outputs": [],
   "source": [
    "ROLE_COLS=['DevType']\n",
    "TECH_COLS=['LanguageHaveWorkedWith',\n",
    "           'DatabaseHaveWorkedWith',\n",
    "           'WebframeHaveWorkedWith',\n",
    "           'MiscTechHaveWorkedWith',\n",
    "           'ToolsTechHaveWorkedWith',\n",
    "            ]"
   ]
  },
  {
   "cell_type": "code",
   "execution_count": 5,
   "metadata": {},
   "outputs": [
    {
     "data": {
      "text/html": [
       "<div>\n",
       "<style scoped>\n",
       "    .dataframe tbody tr th:only-of-type {\n",
       "        vertical-align: middle;\n",
       "    }\n",
       "\n",
       "    .dataframe tbody tr th {\n",
       "        vertical-align: top;\n",
       "    }\n",
       "\n",
       "    .dataframe thead tr th {\n",
       "        text-align: left;\n",
       "    }\n",
       "</style>\n",
       "<table border=\"1\" class=\"dataframe\">\n",
       "  <thead>\n",
       "    <tr>\n",
       "      <th></th>\n",
       "      <th colspan=\"10\" halign=\"left\">DevType</th>\n",
       "      <th>...</th>\n",
       "      <th colspan=\"10\" halign=\"left\">ToolsTechHaveWorkedWith</th>\n",
       "    </tr>\n",
       "    <tr>\n",
       "      <th></th>\n",
       "      <th>Academic researcher</th>\n",
       "      <th>Data or business analyst</th>\n",
       "      <th>Data scientist or machine learning specialist</th>\n",
       "      <th>Database administrator</th>\n",
       "      <th>Designer</th>\n",
       "      <th>DevOps specialist</th>\n",
       "      <th>Developer, QA or test</th>\n",
       "      <th>Developer, back-end</th>\n",
       "      <th>Developer, desktop or enterprise applications</th>\n",
       "      <th>Developer, embedded applications or devices</th>\n",
       "      <th>...</th>\n",
       "      <th>Flow</th>\n",
       "      <th>Git</th>\n",
       "      <th>Kubernetes</th>\n",
       "      <th>Pulumi</th>\n",
       "      <th>Puppet</th>\n",
       "      <th>Terraform</th>\n",
       "      <th>Unity 3D</th>\n",
       "      <th>Unreal Engine</th>\n",
       "      <th>Xamarin</th>\n",
       "      <th>Yarn</th>\n",
       "    </tr>\n",
       "  </thead>\n",
       "  <tbody>\n",
       "    <tr>\n",
       "      <th>0</th>\n",
       "      <td>0</td>\n",
       "      <td>0</td>\n",
       "      <td>0</td>\n",
       "      <td>0</td>\n",
       "      <td>0</td>\n",
       "      <td>0</td>\n",
       "      <td>0</td>\n",
       "      <td>0</td>\n",
       "      <td>0</td>\n",
       "      <td>0</td>\n",
       "      <td>...</td>\n",
       "      <td>0</td>\n",
       "      <td>0</td>\n",
       "      <td>0</td>\n",
       "      <td>0</td>\n",
       "      <td>0</td>\n",
       "      <td>0</td>\n",
       "      <td>0</td>\n",
       "      <td>0</td>\n",
       "      <td>0</td>\n",
       "      <td>0</td>\n",
       "    </tr>\n",
       "    <tr>\n",
       "      <th>1</th>\n",
       "      <td>0</td>\n",
       "      <td>0</td>\n",
       "      <td>0</td>\n",
       "      <td>0</td>\n",
       "      <td>0</td>\n",
       "      <td>0</td>\n",
       "      <td>0</td>\n",
       "      <td>0</td>\n",
       "      <td>0</td>\n",
       "      <td>0</td>\n",
       "      <td>...</td>\n",
       "      <td>0</td>\n",
       "      <td>1</td>\n",
       "      <td>0</td>\n",
       "      <td>0</td>\n",
       "      <td>0</td>\n",
       "      <td>0</td>\n",
       "      <td>0</td>\n",
       "      <td>0</td>\n",
       "      <td>0</td>\n",
       "      <td>1</td>\n",
       "    </tr>\n",
       "    <tr>\n",
       "      <th>2</th>\n",
       "      <td>0</td>\n",
       "      <td>0</td>\n",
       "      <td>0</td>\n",
       "      <td>0</td>\n",
       "      <td>0</td>\n",
       "      <td>0</td>\n",
       "      <td>0</td>\n",
       "      <td>0</td>\n",
       "      <td>0</td>\n",
       "      <td>0</td>\n",
       "      <td>...</td>\n",
       "      <td>0</td>\n",
       "      <td>0</td>\n",
       "      <td>0</td>\n",
       "      <td>0</td>\n",
       "      <td>0</td>\n",
       "      <td>0</td>\n",
       "      <td>0</td>\n",
       "      <td>0</td>\n",
       "      <td>0</td>\n",
       "      <td>0</td>\n",
       "    </tr>\n",
       "    <tr>\n",
       "      <th>3</th>\n",
       "      <td>0</td>\n",
       "      <td>0</td>\n",
       "      <td>0</td>\n",
       "      <td>0</td>\n",
       "      <td>0</td>\n",
       "      <td>0</td>\n",
       "      <td>0</td>\n",
       "      <td>0</td>\n",
       "      <td>0</td>\n",
       "      <td>0</td>\n",
       "      <td>...</td>\n",
       "      <td>0</td>\n",
       "      <td>0</td>\n",
       "      <td>0</td>\n",
       "      <td>0</td>\n",
       "      <td>0</td>\n",
       "      <td>0</td>\n",
       "      <td>0</td>\n",
       "      <td>0</td>\n",
       "      <td>0</td>\n",
       "      <td>0</td>\n",
       "    </tr>\n",
       "    <tr>\n",
       "      <th>4</th>\n",
       "      <td>0</td>\n",
       "      <td>0</td>\n",
       "      <td>0</td>\n",
       "      <td>0</td>\n",
       "      <td>0</td>\n",
       "      <td>0</td>\n",
       "      <td>0</td>\n",
       "      <td>0</td>\n",
       "      <td>1</td>\n",
       "      <td>0</td>\n",
       "      <td>...</td>\n",
       "      <td>0</td>\n",
       "      <td>1</td>\n",
       "      <td>1</td>\n",
       "      <td>0</td>\n",
       "      <td>0</td>\n",
       "      <td>0</td>\n",
       "      <td>0</td>\n",
       "      <td>0</td>\n",
       "      <td>0</td>\n",
       "      <td>1</td>\n",
       "    </tr>\n",
       "  </tbody>\n",
       "</table>\n",
       "<p>5 rows × 122 columns</p>\n",
       "</div>"
      ],
      "text/plain": [
       "              DevType                           \\\n",
       "  Academic researcher Data or business analyst   \n",
       "0                   0                        0   \n",
       "1                   0                        0   \n",
       "2                   0                        0   \n",
       "3                   0                        0   \n",
       "4                   0                        0   \n",
       "\n",
       "                                                                        \\\n",
       "  Data scientist or machine learning specialist Database administrator   \n",
       "0                                             0                      0   \n",
       "1                                             0                      0   \n",
       "2                                             0                      0   \n",
       "3                                             0                      0   \n",
       "4                                             0                      0   \n",
       "\n",
       "                                                                        \\\n",
       "  Designer DevOps specialist Developer, QA or test Developer, back-end   \n",
       "0        0                 0                     0                   0   \n",
       "1        0                 0                     0                   0   \n",
       "2        0                 0                     0                   0   \n",
       "3        0                 0                     0                   0   \n",
       "4        0                 0                     0                   0   \n",
       "\n",
       "                                                 \\\n",
       "  Developer, desktop or enterprise applications   \n",
       "0                                             0   \n",
       "1                                             0   \n",
       "2                                             0   \n",
       "3                                             0   \n",
       "4                                             1   \n",
       "\n",
       "                                               ... ToolsTechHaveWorkedWith  \\\n",
       "  Developer, embedded applications or devices  ...                    Flow   \n",
       "0                                           0  ...                       0   \n",
       "1                                           0  ...                       0   \n",
       "2                                           0  ...                       0   \n",
       "3                                           0  ...                       0   \n",
       "4                                           0  ...                       0   \n",
       "\n",
       "                                                                              \n",
       "  Git Kubernetes Pulumi Puppet Terraform Unity 3D Unreal Engine Xamarin Yarn  \n",
       "0   0          0      0      0         0        0             0       0    0  \n",
       "1   1          0      0      0         0        0             0       0    1  \n",
       "2   0          0      0      0         0        0             0       0    0  \n",
       "3   0          0      0      0         0        0             0       0    0  \n",
       "4   1          1      0      0         0        0             0       0    1  \n",
       "\n",
       "[5 rows x 122 columns]"
      ]
     },
     "execution_count": 5,
     "metadata": {},
     "output_type": "execute_result"
    }
   ],
   "source": [
    "Benaizer=MultiLabelBinarizer()\n",
    "encoded_dfs={}\n",
    "for col in ROLE_COLS+TECH_COLS:\n",
    "    col_encoded=Benaizer.fit_transform(df[col])\n",
    "    encoded_df=pd.DataFrame(col_encoded,columns=Benaizer.classes_)\n",
    "    encoded_dfs[col]=encoded_df\n",
    "encoded_dfs=pd.concat(encoded_dfs,axis=1)\n",
    "encoded_dfs.head()\n",
    "\n"
   ]
  },
  {
   "cell_type": "code",
   "execution_count": 6,
   "metadata": {},
   "outputs": [
    {
     "data": {
      "text/html": [
       "<div>\n",
       "<style scoped>\n",
       "    .dataframe tbody tr th:only-of-type {\n",
       "        vertical-align: middle;\n",
       "    }\n",
       "\n",
       "    .dataframe tbody tr th {\n",
       "        vertical-align: top;\n",
       "    }\n",
       "\n",
       "    .dataframe thead th {\n",
       "        text-align: right;\n",
       "    }\n",
       "</style>\n",
       "<table border=\"1\" class=\"dataframe\">\n",
       "  <thead>\n",
       "    <tr style=\"text-align: right;\">\n",
       "      <th></th>\n",
       "      <th>Academic researcher</th>\n",
       "      <th>Data or business analyst</th>\n",
       "      <th>Data scientist or machine learning specialist</th>\n",
       "      <th>Database administrator</th>\n",
       "      <th>Designer</th>\n",
       "      <th>DevOps specialist</th>\n",
       "      <th>Developer, QA or test</th>\n",
       "      <th>Developer, back-end</th>\n",
       "      <th>Developer, desktop or enterprise applications</th>\n",
       "      <th>Developer, embedded applications or devices</th>\n",
       "      <th>...</th>\n",
       "      <th>Engineer, data</th>\n",
       "      <th>Engineer, site reliability</th>\n",
       "      <th>Engineering manager</th>\n",
       "      <th>Marketing or sales professional</th>\n",
       "      <th>Other (please specify):</th>\n",
       "      <th>Product manager</th>\n",
       "      <th>Scientist</th>\n",
       "      <th>Senior Executive (C-Suite, VP, etc.)</th>\n",
       "      <th>Student</th>\n",
       "      <th>System administrator</th>\n",
       "    </tr>\n",
       "  </thead>\n",
       "  <tbody>\n",
       "    <tr>\n",
       "      <th>0</th>\n",
       "      <td>0</td>\n",
       "      <td>0</td>\n",
       "      <td>0</td>\n",
       "      <td>0</td>\n",
       "      <td>0</td>\n",
       "      <td>0</td>\n",
       "      <td>0</td>\n",
       "      <td>0</td>\n",
       "      <td>0</td>\n",
       "      <td>0</td>\n",
       "      <td>...</td>\n",
       "      <td>0</td>\n",
       "      <td>0</td>\n",
       "      <td>0</td>\n",
       "      <td>0</td>\n",
       "      <td>0</td>\n",
       "      <td>0</td>\n",
       "      <td>0</td>\n",
       "      <td>0</td>\n",
       "      <td>0</td>\n",
       "      <td>0</td>\n",
       "    </tr>\n",
       "    <tr>\n",
       "      <th>1</th>\n",
       "      <td>0</td>\n",
       "      <td>0</td>\n",
       "      <td>0</td>\n",
       "      <td>0</td>\n",
       "      <td>0</td>\n",
       "      <td>0</td>\n",
       "      <td>0</td>\n",
       "      <td>0</td>\n",
       "      <td>0</td>\n",
       "      <td>0</td>\n",
       "      <td>...</td>\n",
       "      <td>0</td>\n",
       "      <td>0</td>\n",
       "      <td>0</td>\n",
       "      <td>0</td>\n",
       "      <td>0</td>\n",
       "      <td>0</td>\n",
       "      <td>0</td>\n",
       "      <td>0</td>\n",
       "      <td>0</td>\n",
       "      <td>0</td>\n",
       "    </tr>\n",
       "    <tr>\n",
       "      <th>2</th>\n",
       "      <td>0</td>\n",
       "      <td>0</td>\n",
       "      <td>0</td>\n",
       "      <td>0</td>\n",
       "      <td>0</td>\n",
       "      <td>0</td>\n",
       "      <td>0</td>\n",
       "      <td>0</td>\n",
       "      <td>0</td>\n",
       "      <td>0</td>\n",
       "      <td>...</td>\n",
       "      <td>0</td>\n",
       "      <td>0</td>\n",
       "      <td>0</td>\n",
       "      <td>0</td>\n",
       "      <td>0</td>\n",
       "      <td>0</td>\n",
       "      <td>0</td>\n",
       "      <td>0</td>\n",
       "      <td>0</td>\n",
       "      <td>0</td>\n",
       "    </tr>\n",
       "    <tr>\n",
       "      <th>3</th>\n",
       "      <td>0</td>\n",
       "      <td>0</td>\n",
       "      <td>0</td>\n",
       "      <td>0</td>\n",
       "      <td>0</td>\n",
       "      <td>0</td>\n",
       "      <td>0</td>\n",
       "      <td>0</td>\n",
       "      <td>0</td>\n",
       "      <td>0</td>\n",
       "      <td>...</td>\n",
       "      <td>0</td>\n",
       "      <td>0</td>\n",
       "      <td>0</td>\n",
       "      <td>0</td>\n",
       "      <td>0</td>\n",
       "      <td>0</td>\n",
       "      <td>0</td>\n",
       "      <td>0</td>\n",
       "      <td>0</td>\n",
       "      <td>0</td>\n",
       "    </tr>\n",
       "    <tr>\n",
       "      <th>4</th>\n",
       "      <td>0</td>\n",
       "      <td>0</td>\n",
       "      <td>0</td>\n",
       "      <td>0</td>\n",
       "      <td>0</td>\n",
       "      <td>0</td>\n",
       "      <td>0</td>\n",
       "      <td>0</td>\n",
       "      <td>1</td>\n",
       "      <td>0</td>\n",
       "      <td>...</td>\n",
       "      <td>1</td>\n",
       "      <td>0</td>\n",
       "      <td>0</td>\n",
       "      <td>0</td>\n",
       "      <td>1</td>\n",
       "      <td>0</td>\n",
       "      <td>0</td>\n",
       "      <td>0</td>\n",
       "      <td>0</td>\n",
       "      <td>0</td>\n",
       "    </tr>\n",
       "    <tr>\n",
       "      <th>...</th>\n",
       "      <td>...</td>\n",
       "      <td>...</td>\n",
       "      <td>...</td>\n",
       "      <td>...</td>\n",
       "      <td>...</td>\n",
       "      <td>...</td>\n",
       "      <td>...</td>\n",
       "      <td>...</td>\n",
       "      <td>...</td>\n",
       "      <td>...</td>\n",
       "      <td>...</td>\n",
       "      <td>...</td>\n",
       "      <td>...</td>\n",
       "      <td>...</td>\n",
       "      <td>...</td>\n",
       "      <td>...</td>\n",
       "      <td>...</td>\n",
       "      <td>...</td>\n",
       "      <td>...</td>\n",
       "      <td>...</td>\n",
       "      <td>...</td>\n",
       "    </tr>\n",
       "    <tr>\n",
       "      <th>83434</th>\n",
       "      <td>0</td>\n",
       "      <td>0</td>\n",
       "      <td>0</td>\n",
       "      <td>0</td>\n",
       "      <td>0</td>\n",
       "      <td>0</td>\n",
       "      <td>0</td>\n",
       "      <td>1</td>\n",
       "      <td>0</td>\n",
       "      <td>0</td>\n",
       "      <td>...</td>\n",
       "      <td>0</td>\n",
       "      <td>0</td>\n",
       "      <td>0</td>\n",
       "      <td>0</td>\n",
       "      <td>0</td>\n",
       "      <td>0</td>\n",
       "      <td>0</td>\n",
       "      <td>0</td>\n",
       "      <td>0</td>\n",
       "      <td>0</td>\n",
       "    </tr>\n",
       "    <tr>\n",
       "      <th>83435</th>\n",
       "      <td>0</td>\n",
       "      <td>0</td>\n",
       "      <td>0</td>\n",
       "      <td>0</td>\n",
       "      <td>0</td>\n",
       "      <td>0</td>\n",
       "      <td>0</td>\n",
       "      <td>0</td>\n",
       "      <td>0</td>\n",
       "      <td>0</td>\n",
       "      <td>...</td>\n",
       "      <td>0</td>\n",
       "      <td>0</td>\n",
       "      <td>0</td>\n",
       "      <td>0</td>\n",
       "      <td>0</td>\n",
       "      <td>0</td>\n",
       "      <td>0</td>\n",
       "      <td>0</td>\n",
       "      <td>0</td>\n",
       "      <td>0</td>\n",
       "    </tr>\n",
       "    <tr>\n",
       "      <th>83436</th>\n",
       "      <td>0</td>\n",
       "      <td>0</td>\n",
       "      <td>1</td>\n",
       "      <td>0</td>\n",
       "      <td>0</td>\n",
       "      <td>1</td>\n",
       "      <td>0</td>\n",
       "      <td>0</td>\n",
       "      <td>0</td>\n",
       "      <td>0</td>\n",
       "      <td>...</td>\n",
       "      <td>0</td>\n",
       "      <td>0</td>\n",
       "      <td>0</td>\n",
       "      <td>0</td>\n",
       "      <td>0</td>\n",
       "      <td>0</td>\n",
       "      <td>0</td>\n",
       "      <td>0</td>\n",
       "      <td>0</td>\n",
       "      <td>0</td>\n",
       "    </tr>\n",
       "    <tr>\n",
       "      <th>83437</th>\n",
       "      <td>0</td>\n",
       "      <td>0</td>\n",
       "      <td>0</td>\n",
       "      <td>0</td>\n",
       "      <td>0</td>\n",
       "      <td>0</td>\n",
       "      <td>0</td>\n",
       "      <td>1</td>\n",
       "      <td>0</td>\n",
       "      <td>0</td>\n",
       "      <td>...</td>\n",
       "      <td>0</td>\n",
       "      <td>0</td>\n",
       "      <td>0</td>\n",
       "      <td>0</td>\n",
       "      <td>0</td>\n",
       "      <td>0</td>\n",
       "      <td>0</td>\n",
       "      <td>0</td>\n",
       "      <td>0</td>\n",
       "      <td>0</td>\n",
       "    </tr>\n",
       "    <tr>\n",
       "      <th>83438</th>\n",
       "      <td>0</td>\n",
       "      <td>0</td>\n",
       "      <td>0</td>\n",
       "      <td>0</td>\n",
       "      <td>0</td>\n",
       "      <td>0</td>\n",
       "      <td>0</td>\n",
       "      <td>1</td>\n",
       "      <td>0</td>\n",
       "      <td>0</td>\n",
       "      <td>...</td>\n",
       "      <td>0</td>\n",
       "      <td>0</td>\n",
       "      <td>0</td>\n",
       "      <td>0</td>\n",
       "      <td>0</td>\n",
       "      <td>0</td>\n",
       "      <td>0</td>\n",
       "      <td>0</td>\n",
       "      <td>0</td>\n",
       "      <td>0</td>\n",
       "    </tr>\n",
       "  </tbody>\n",
       "</table>\n",
       "<p>83439 rows × 25 columns</p>\n",
       "</div>"
      ],
      "text/plain": [
       "       Academic researcher  Data or business analyst  \\\n",
       "0                        0                         0   \n",
       "1                        0                         0   \n",
       "2                        0                         0   \n",
       "3                        0                         0   \n",
       "4                        0                         0   \n",
       "...                    ...                       ...   \n",
       "83434                    0                         0   \n",
       "83435                    0                         0   \n",
       "83436                    0                         0   \n",
       "83437                    0                         0   \n",
       "83438                    0                         0   \n",
       "\n",
       "       Data scientist or machine learning specialist  Database administrator  \\\n",
       "0                                                  0                       0   \n",
       "1                                                  0                       0   \n",
       "2                                                  0                       0   \n",
       "3                                                  0                       0   \n",
       "4                                                  0                       0   \n",
       "...                                              ...                     ...   \n",
       "83434                                              0                       0   \n",
       "83435                                              0                       0   \n",
       "83436                                              1                       0   \n",
       "83437                                              0                       0   \n",
       "83438                                              0                       0   \n",
       "\n",
       "       Designer  DevOps specialist  Developer, QA or test  \\\n",
       "0             0                  0                      0   \n",
       "1             0                  0                      0   \n",
       "2             0                  0                      0   \n",
       "3             0                  0                      0   \n",
       "4             0                  0                      0   \n",
       "...         ...                ...                    ...   \n",
       "83434         0                  0                      0   \n",
       "83435         0                  0                      0   \n",
       "83436         0                  1                      0   \n",
       "83437         0                  0                      0   \n",
       "83438         0                  0                      0   \n",
       "\n",
       "       Developer, back-end  Developer, desktop or enterprise applications  \\\n",
       "0                        0                                              0   \n",
       "1                        0                                              0   \n",
       "2                        0                                              0   \n",
       "3                        0                                              0   \n",
       "4                        0                                              1   \n",
       "...                    ...                                            ...   \n",
       "83434                    1                                              0   \n",
       "83435                    0                                              0   \n",
       "83436                    0                                              0   \n",
       "83437                    1                                              0   \n",
       "83438                    1                                              0   \n",
       "\n",
       "       Developer, embedded applications or devices  ...  Engineer, data  \\\n",
       "0                                                0  ...               0   \n",
       "1                                                0  ...               0   \n",
       "2                                                0  ...               0   \n",
       "3                                                0  ...               0   \n",
       "4                                                0  ...               1   \n",
       "...                                            ...  ...             ...   \n",
       "83434                                            0  ...               0   \n",
       "83435                                            0  ...               0   \n",
       "83436                                            0  ...               0   \n",
       "83437                                            0  ...               0   \n",
       "83438                                            0  ...               0   \n",
       "\n",
       "       Engineer, site reliability  Engineering manager  \\\n",
       "0                               0                    0   \n",
       "1                               0                    0   \n",
       "2                               0                    0   \n",
       "3                               0                    0   \n",
       "4                               0                    0   \n",
       "...                           ...                  ...   \n",
       "83434                           0                    0   \n",
       "83435                           0                    0   \n",
       "83436                           0                    0   \n",
       "83437                           0                    0   \n",
       "83438                           0                    0   \n",
       "\n",
       "       Marketing or sales professional  Other (please specify):  \\\n",
       "0                                    0                        0   \n",
       "1                                    0                        0   \n",
       "2                                    0                        0   \n",
       "3                                    0                        0   \n",
       "4                                    0                        1   \n",
       "...                                ...                      ...   \n",
       "83434                                0                        0   \n",
       "83435                                0                        0   \n",
       "83436                                0                        0   \n",
       "83437                                0                        0   \n",
       "83438                                0                        0   \n",
       "\n",
       "       Product manager  Scientist  Senior Executive (C-Suite, VP, etc.)  \\\n",
       "0                    0          0                                     0   \n",
       "1                    0          0                                     0   \n",
       "2                    0          0                                     0   \n",
       "3                    0          0                                     0   \n",
       "4                    0          0                                     0   \n",
       "...                ...        ...                                   ...   \n",
       "83434                0          0                                     0   \n",
       "83435                0          0                                     0   \n",
       "83436                0          0                                     0   \n",
       "83437                0          0                                     0   \n",
       "83438                0          0                                     0   \n",
       "\n",
       "       Student  System administrator  \n",
       "0            0                     0  \n",
       "1            0                     0  \n",
       "2            0                     0  \n",
       "3            0                     0  \n",
       "4            0                     0  \n",
       "...        ...                   ...  \n",
       "83434        0                     0  \n",
       "83435        0                     0  \n",
       "83436        0                     0  \n",
       "83437        0                     0  \n",
       "83438        0                     0  \n",
       "\n",
       "[83439 rows x 25 columns]"
      ]
     },
     "execution_count": 6,
     "metadata": {},
     "output_type": "execute_result"
    }
   ],
   "source": [
    "encoded_dfs['DevType']"
   ]
  },
  {
   "cell_type": "code",
   "execution_count": 7,
   "metadata": {},
   "outputs": [
    {
     "name": "stdout",
     "output_type": "stream",
     "text": [
      "(83439, 97)\n"
     ]
    }
   ],
   "source": [
    "skills=encoded_dfs.drop(\"DevType\",axis=1).copy()\n",
    "# skillsskills.droplevel(level=0,axis=1)\n",
    "# skills1\n",
    "print(skills.shape)\n",
    "scaler=StandardScaler()\n",
    "skills_std=scaler.fit_transform(skills)\n"
   ]
  },
  {
   "cell_type": "code",
   "execution_count": 8,
   "metadata": {},
   "outputs": [
    {
     "data": {
      "text/plain": [
       "(83439, 97)"
      ]
     },
     "execution_count": 8,
     "metadata": {},
     "output_type": "execute_result"
    }
   ],
   "source": [
    "skills_std.shape"
   ]
  },
  {
   "cell_type": "code",
   "execution_count": 9,
   "metadata": {},
   "outputs": [
    {
     "name": "stderr",
     "output_type": "stream",
     "text": [
      "c:\\Users\\Mohamed Mosaad\\anaconda3\\Lib\\site-packages\\sklearn\\manifold\\_t_sne.py:1162: FutureWarning: 'n_iter' was renamed to 'max_iter' in version 1.5 and will be removed in 1.7.\n",
      "  warnings.warn(\n"
     ]
    },
    {
     "data": {
      "text/plain": [
       "(97, 2)"
      ]
     },
     "execution_count": 9,
     "metadata": {},
     "output_type": "execute_result"
    }
   ],
   "source": [
    "tsne_projection = TSNE(n_components=2, \n",
    "                       perplexity=3,\n",
    "                       learning_rate=0.01,\n",
    "                       init='pca', \n",
    "                       method='barnes_hut', \n",
    "                       n_jobs=2, \n",
    "                       n_iter=10**10,\n",
    "                       random_state=0).fit_transform(skills_std.T)\n",
    "tsne_projection.shape"
   ]
  },
  {
   "cell_type": "code",
   "execution_count": 10,
   "metadata": {},
   "outputs": [
    {
     "data": {
      "text/html": [
       "<div>\n",
       "<style scoped>\n",
       "    .dataframe tbody tr th:only-of-type {\n",
       "        vertical-align: middle;\n",
       "    }\n",
       "\n",
       "    .dataframe tbody tr th {\n",
       "        vertical-align: top;\n",
       "    }\n",
       "\n",
       "    .dataframe thead th {\n",
       "        text-align: right;\n",
       "    }\n",
       "</style>\n",
       "<table border=\"1\" class=\"dataframe\">\n",
       "  <thead>\n",
       "    <tr style=\"text-align: right;\">\n",
       "      <th></th>\n",
       "      <th></th>\n",
       "      <th>0</th>\n",
       "      <th>1</th>\n",
       "    </tr>\n",
       "  </thead>\n",
       "  <tbody>\n",
       "    <tr>\n",
       "      <th rowspan=\"5\" valign=\"top\">LanguageHaveWorkedWith</th>\n",
       "      <th>APL</th>\n",
       "      <td>-4.008318</td>\n",
       "      <td>12.721899</td>\n",
       "    </tr>\n",
       "    <tr>\n",
       "      <th>Assembly</th>\n",
       "      <td>12.369722</td>\n",
       "      <td>19.157209</td>\n",
       "    </tr>\n",
       "    <tr>\n",
       "      <th>Bash/Shell</th>\n",
       "      <td>20.850826</td>\n",
       "      <td>3.393134</td>\n",
       "    </tr>\n",
       "    <tr>\n",
       "      <th>C</th>\n",
       "      <td>12.388395</td>\n",
       "      <td>20.947248</td>\n",
       "    </tr>\n",
       "    <tr>\n",
       "      <th>C#</th>\n",
       "      <td>-32.319180</td>\n",
       "      <td>21.896370</td>\n",
       "    </tr>\n",
       "    <tr>\n",
       "      <th>...</th>\n",
       "      <th>...</th>\n",
       "      <td>...</td>\n",
       "      <td>...</td>\n",
       "    </tr>\n",
       "    <tr>\n",
       "      <th rowspan=\"5\" valign=\"top\">ToolsTechHaveWorkedWith</th>\n",
       "      <th>Terraform</th>\n",
       "      <td>17.629644</td>\n",
       "      <td>-8.732351</td>\n",
       "    </tr>\n",
       "    <tr>\n",
       "      <th>Unity 3D</th>\n",
       "      <td>-20.209616</td>\n",
       "      <td>32.175648</td>\n",
       "    </tr>\n",
       "    <tr>\n",
       "      <th>Unreal Engine</th>\n",
       "      <td>-19.317451</td>\n",
       "      <td>32.648453</td>\n",
       "    </tr>\n",
       "    <tr>\n",
       "      <th>Xamarin</th>\n",
       "      <td>-29.552435</td>\n",
       "      <td>24.399862</td>\n",
       "    </tr>\n",
       "    <tr>\n",
       "      <th>Yarn</th>\n",
       "      <td>-20.809404</td>\n",
       "      <td>-26.105608</td>\n",
       "    </tr>\n",
       "  </tbody>\n",
       "</table>\n",
       "<p>97 rows × 2 columns</p>\n",
       "</div>"
      ],
      "text/plain": [
       "                                               0          1\n",
       "LanguageHaveWorkedWith  APL            -4.008318  12.721899\n",
       "                        Assembly       12.369722  19.157209\n",
       "                        Bash/Shell     20.850826   3.393134\n",
       "                        C              12.388395  20.947248\n",
       "                        C#            -32.319180  21.896370\n",
       "...                                          ...        ...\n",
       "ToolsTechHaveWorkedWith Terraform      17.629644  -8.732351\n",
       "                        Unity 3D      -20.209616  32.175648\n",
       "                        Unreal Engine -19.317451  32.648453\n",
       "                        Xamarin       -29.552435  24.399862\n",
       "                        Yarn          -20.809404 -26.105608\n",
       "\n",
       "[97 rows x 2 columns]"
      ]
     },
     "execution_count": 10,
     "metadata": {},
     "output_type": "execute_result"
    }
   ],
   "source": [
    "tsne_projection=pd.DataFrame(tsne_projection,index=skills.columns)\n",
    "tsne_projection"
   ]
  },
  {
   "cell_type": "code",
   "execution_count": 11,
   "metadata": {},
   "outputs": [
    {
     "data": {
      "text/plain": [
       "APL              12.721899\n",
       "Assembly         19.157209\n",
       "Bash/Shell        3.393134\n",
       "C                20.947248\n",
       "C#               21.896370\n",
       "                   ...    \n",
       "Terraform        -8.732351\n",
       "Unity 3D         32.175648\n",
       "Unreal Engine    32.648453\n",
       "Xamarin          24.399862\n",
       "Yarn            -26.105608\n",
       "Name: 1, Length: 97, dtype: float32"
      ]
     },
     "execution_count": 11,
     "metadata": {},
     "output_type": "execute_result"
    }
   ],
   "source": [
    "tsne_projection.droplevel(0)[1]"
   ]
  },
  {
   "cell_type": "code",
   "execution_count": 12,
   "metadata": {},
   "outputs": [
    {
     "name": "stdout",
     "output_type": "stream",
     "text": [
      "-4.0083184\n"
     ]
    },
    {
     "name": "stderr",
     "output_type": "stream",
     "text": [
      "C:\\Users\\Mohamed Mosaad\\AppData\\Local\\Temp\\ipykernel_12612\\2530046623.py:1: FutureWarning: Series.__getitem__ treating keys as positions is deprecated. In a future version, integer keys will always be treated as labels (consistent with DataFrame behavior). To access a value by position, use `ser.iloc[pos]`\n",
      "  print(tsne_projection.droplevel(0)[0][0])\n"
     ]
    }
   ],
   "source": [
    "print(tsne_projection.droplevel(0)[0][0])"
   ]
  },
  {
   "cell_type": "code",
   "execution_count": 13,
   "metadata": {},
   "outputs": [
    {
     "name": "stderr",
     "output_type": "stream",
     "text": [
      "C:\\Users\\Mohamed Mosaad\\AppData\\Local\\Temp\\ipykernel_12612\\2901777737.py:5: FutureWarning: Series.__getitem__ treating keys as positions is deprecated. In a future version, integer keys will always be treated as labels (consistent with DataFrame behavior). To access a value by position, use `ser.iloc[pos]`\n",
      "  plt.text(tsne_projection.droplevel(0)[0][i],tsne_projection.droplevel(0)[1][i],label)\n"
     ]
    },
    {
     "data": {
      "text/plain": [
       "Text(0, 0.5, 'Component 2')"
      ]
     },
     "execution_count": 13,
     "metadata": {},
     "output_type": "execute_result"
    },
    {
     "data": {
      "image/png": "[encoded data removed]",
      "text/plain": [
       "<Figure size 1500x1500 with 1 Axes>"
      ]
     },
     "metadata": {},
     "output_type": "display_data"
    }
   ],
   "source": [
    "plt.figure(figsize=(15, 15))\n",
    "\n",
    "plt.scatter(tsne_projection[0],tsne_projection[1])\n",
    "for i ,label in enumerate(tsne_projection.droplevel(0).index):\n",
    "    plt.text(tsne_projection.droplevel(0)[0][i],tsne_projection.droplevel(0)[1][i],label)\n",
    "\n",
    "plt.title('t-SNE Projection', fontsize=16)\n",
    "plt.xlabel('Component 1', fontsize=14)\n",
    "plt.ylabel('Component 2', fontsize=14)"
   ]
  },
  {
   "cell_type": "code",
   "execution_count": 14,
   "metadata": {},
   "outputs": [],
   "source": [
    "n_cluster=np.arange(10,25)\n",
    "silhouette_scores=[]\n",
    "for i in n_cluster:\n",
    "    cluster=AgglomerativeClustering(n_clusters=i,linkage='ward')\n",
    "    prediction=cluster.fit_predict(tsne_projection)\n",
    "    # print(prediction)\n",
    "    silhouette_scores.append(silhouette_score(tsne_projection,prediction))\n",
    "    \n"
   ]
  },
  {
   "cell_type": "code",
   "execution_count": 15,
   "metadata": {},
   "outputs": [
    {
     "data": {
      "text/plain": [
       "[<matplotlib.lines.Line2D at 0x19a0bd9b990>]"
      ]
     },
     "execution_count": 15,
     "metadata": {},
     "output_type": "execute_result"
    },
    {
     "data": {
      "image/png": "[encoded data removed]",
      "text/plain": [
       "<Figure size 640x480 with 1 Axes>"
      ]
     },
     "metadata": {},
     "output_type": "display_data"
    }
   ],
   "source": [
    "plt.plot(n_cluster,silhouette_scores)"
   ]
  },
  {
   "cell_type": "code",
   "execution_count": 16,
   "metadata": {},
   "outputs": [
    {
     "data": {
      "text/plain": [
       "array([ 8,  9, 18,  9,  2,  9,  8,  5,  8, 16,  8,  5,  5,  2,  1, 13,  7,\n",
       "        5, 13,  7,  0, 13,  5,  0,  3, 19,  4, 18,  2,  0,  0, 15,  1,  2,\n",
       "       17, 19, 14,  2,  6,  6,  1,  6, 16,  8,  4,  2,  3,  4, 13,  1,  6,\n",
       "        4,  2,  2, 14, 14,  0,  4,  3,  0,  0,  3,  4,  3, 15, 13, 11,  4,\n",
       "        4,  7,  2,  2, 17, 14, 16, 17,  0,  0,  0,  9,  3,  0,  0,  1, 12,\n",
       "       11,  1, 12,  1,  1, 12, 12,  1, 10, 10,  2,  3], dtype=int64)"
      ]
     },
     "execution_count": 16,
     "metadata": {},
     "output_type": "execute_result"
    }
   ],
   "source": [
    "cluster=AgglomerativeClustering(n_clusters=20)\n",
    "predictions=cluster.fit_predict(tsne_projection)\n",
    "predictions"
   ]
  },
  {
   "cell_type": "code",
   "execution_count": 17,
   "metadata": {},
   "outputs": [
    {
     "data": {
      "application/vnd.plotly.v1+json": {
       "config": {
        "plotlyServerURL": "https://plot.ly"
       },
       "data": [
        {
         "hovertemplate": "x=%{x}<br>y=%{y}<br>text=%{text}<br>color=%{marker.color}<extra></extra>",
         "legendgroup": "",
         "marker": {
          "color": [
           8,
           9,
           18,
           9,
           2,
           9,
           8,
           5,
           8,
           16,
           8,
           5,
           5,
           2,
           1,
           13,
           7,
           5,
           13,
           7,
           0,
           13,
           5,
           0,
           3,
           19,
           4,
           18,
           2,
           0,
           0,
           15,
           1,
           2,
           17,
           19,
           14,
           2,
           6,
           6,
           1,
           6,
           16,
           8,
           4,
           2,
           3,
           4,
           13,
           1,
           6,
           4,
           2,
           2,
           14,
           14,
           0,
           4,
           3,
           0,
           0,
           3,
           4,
           3,
           15,
           13,
           11,
           4,
           4,
           7,
           2,
           2,
           17,
           14,
           16,
           17,
           0,
           0,
           0,
           9,
           3,
           0,
           0,
           1,
           12,
           11,
           1,
           12,
           1,
           1,
           12,
           12,
           1,
           10,
           10,
           2,
           3
          ],
          "coloraxis": "coloraxis",
          "symbol": "circle"
         },
         "mode": "markers+text",
         "name": "",
         "orientation": "v",
         "showlegend": false,
         "text": [
          "APL",
          "Assembly",
          "Bash/Shell",
          "C",
          "C#",
          "C++",
          "COBOL",
          "Clojure",
          "Crystal",
          "Dart",
          "Delphi",
          "Elixir",
          "Erlang",
          "F#",
          "Go",
          "Groovy",
          "HTML/CSS",
          "Haskell",
          "Java",
          "JavaScript",
          "Julia",
          "Kotlin",
          "LISP",
          "Matlab",
          "Node.js",
          "Objective-C",
          "PHP",
          "Perl",
          "PowerShell",
          "Python",
          "R",
          "Ruby",
          "Rust",
          "SQL",
          "Scala",
          "Swift",
          "TypeScript",
          "VBA",
          "Cassandra",
          "Couchbase",
          "DynamoDB",
          "Elasticsearch",
          "Firebase",
          "IBM DB2",
          "MariaDB",
          "Microsoft SQL Server",
          "MongoDB",
          "MySQL",
          "Oracle",
          "PostgreSQL",
          "Redis",
          "SQLite",
          "ASP.NET",
          "ASP.NET Core ",
          "Angular",
          "Angular.js",
          "Django",
          "Drupal",
          "Express",
          "FastAPI",
          "Flask",
          "Gatsby",
          "Laravel",
          "React.js",
          "Ruby on Rails",
          "Spring",
          "Svelte",
          "Symfony",
          "Vue.js",
          "jQuery",
          ".NET Core / .NET 5",
          ".NET Framework",
          "Apache Spark",
          "Cordova",
          "Flutter",
          "Hadoop",
          "Keras",
          "NumPy",
          "Pandas",
          "Qt",
          "React Native",
          "TensorFlow",
          "Torch/PyTorch",
          "Ansible",
          "Chef",
          "Deno",
          "Docker",
          "Flow",
          "Git",
          "Kubernetes",
          "Pulumi",
          "Puppet",
          "Terraform",
          "Unity 3D",
          "Unreal Engine",
          "Xamarin",
          "Yarn"
         ],
         "type": "scatter",
         "x": [
          -4.0083184242248535,
          12.369722366333008,
          20.850826263427734,
          12.388395309448242,
          -32.31917953491211,
          12.113786697387695,
          -5.990644454956055,
          8.726058006286621,
          -3.993446111679077,
          -17.120458602905273,
          -7.516536712646484,
          1.1078386306762695,
          1.9776397943496704,
          -27.2993221282959,
          15.519086837768555,
          -11.327898025512695,
          -32.577491760253906,
          10.875272750854492,
          -14.302011489868164,
          -32.93147659301758,
          21.034284591674805,
          -15.905632972717285,
          9.427041053771973,
          20.039533615112305,
          -22.542314529418945,
          -23.90073013305664,
          -39.45787048339844,
          21.04236602783203,
          -33.36077880859375,
          24.195430755615234,
          22.2210636138916,
          2.212460994720459,
          13.600090026855469,
          -32.11042022705078,
          37.68223571777344,
          -23.03780174255371,
          -28.16391372680664,
          -28.85048484802246,
          28.96221160888672,
          30.15054702758789,
          19.578168869018555,
          25.947404861450195,
          -17.466135025024414,
          -7.025213241577148,
          -40.07122039794922,
          -30.885404586791992,
          -23.99711799621582,
          -37.537654876708984,
          -13.948607444763184,
          21.789289474487305,
          24.726985931396484,
          -35.19352340698242,
          -32.68164825439453,
          -30.05228042602539,
          -29.29918670654297,
          -31.111398696899414,
          24.05084991455078,
          -44.41791534423828,
          -23.155237197875977,
          27.806884765625,
          25.90379524230957,
          -17.90949821472168,
          -39.54263687133789,
          -19.917940139770508,
          2.1915321350097656,
          -13.262421607971191,
          -9.173572540283203,
          -42.52939224243164,
          -39.568607330322266,
          -35.0056037902832,
          -30.228796005249023,
          -33.003211975097656,
          36.458709716796875,
          -29.51787567138672,
          -17.22880744934082,
          35.80147171020508,
          28.441375732421875,
          22.936058044433594,
          23.544063568115234,
          11.514364242553711,
          -18.661115646362305,
          28.27680015563965,
          28.014419555664062,
          16.042531967163086,
          16.739681243896484,
          -8.240452766418457,
          19.70604705810547,
          14.157968521118164,
          20.113842010498047,
          18.56435203552246,
          15.779372215270996,
          17.413427352905273,
          17.6296443939209,
          -20.20961570739746,
          -19.31745147705078,
          -29.55243492126465,
          -20.809404373168945
         ],
         "xaxis": "x",
         "y": [
          12.721899032592773,
          19.157209396362305,
          3.3931338787078857,
          20.947248458862305,
          21.89636993408203,
          22.052270889282227,
          11.540188789367676,
          4.874770641326904,
          10.040170669555664,
          -10.353483200073242,
          13.811185836791992,
          5.041624546051025,
          5.487788677215576,
          21.670515060424805,
          -2.4966158866882324,
          -0.3416716456413269,
          -18.06892204284668,
          2.0766382217407227,
          0.09936997294425964,
          -17.127119064331055,
          30.141653060913086,
          -1.3793385028839111,
          4.016214847564697,
          24.880104064941406,
          -22.822242736816406,
          -3.14426851272583,
          -10.357083320617676,
          5.255065441131592,
          24.850095748901367,
          22.860572814941406,
          28.538705825805664,
          -6.134408473968506,
          -0.9126871228218079,
          13.28239917755127,
          -4.942495822906494,
          -3.598930835723877,
          -27.94647979736328,
          15.461654663085938,
          -6.600417137145996,
          -8.007733345031738,
          -9.548659324645996,
          -6.183549404144287,
          -13.139373779296875,
          10.780160903930664,
          -8.223402976989746,
          15.997570991516113,
          -20.237462997436523,
          -9.062054634094238,
          2.7748682498931885,
          -4.072818279266357,
          -5.704564571380615,
          -7.043923377990723,
          18.66811180114746,
          20.331619262695312,
          -28.72513771057129,
          -28.495935440063477,
          20.3970947265625,
          -10.299516677856445,
          -21.88671112060547,
          20.687410354614258,
          21.425342559814453,
          -25.800649642944336,
          -11.712132453918457,
          -24.234010696411133,
          -7.1037421226501465,
          0.5672492980957031,
          -30.76120948791504,
          -10.396218299865723,
          -13.982802391052246,
          -14.433735847473145,
          21.875425338745117,
          20.52470588684082,
          -3.7656404972076416,
          -30.91117286682129,
          -11.325563430786133,
          -2.946230411529541,
          28.471200942993164,
          25.36800193786621,
          26.284860610961914,
          23.880596160888672,
          -22.6597843170166,
          29.573415756225586,
          31.29188346862793,
          -7.953536033630371,
          -16.803970336914062,
          -30.413585662841797,
          -3.501946210861206,
          -13.928706169128418,
          -1.302539348602295,
          -4.423667907714844,
          -11.859879493713379,
          -17.628658294677734,
          -8.732351303100586,
          32.1756477355957,
          32.64845275878906,
          24.39986228942871,
          -26.105607986450195
         ],
         "yaxis": "y"
        }
       ],
       "layout": {
        "coloraxis": {
         "colorbar": {
          "title": {
           "text": "color"
          }
         },
         "colorscale": [
          [
           0,
           "#0d0887"
          ],
          [
           0.1111111111111111,
           "#46039f"
          ],
          [
           0.2222222222222222,
           "#7201a8"
          ],
          [
           0.3333333333333333,
           "#9c179e"
          ],
          [
           0.4444444444444444,
           "#bd3786"
          ],
          [
           0.5555555555555556,
           "#d8576b"
          ],
          [
           0.6666666666666666,
           "#ed7953"
          ],
          [
           0.7777777777777778,
           "#fb9f3a"
          ],
          [
           0.8888888888888888,
           "#fdca26"
          ],
          [
           1,
           "#f0f921"
          ]
         ]
        },
        "height": 900,
        "legend": {
         "tracegroupgap": 0
        },
        "margin": {
         "t": 60
        },
        "template": {
         "data": {
          "bar": [
           {
            "error_x": {
             "color": "#2a3f5f"
            },
            "error_y": {
             "color": "#2a3f5f"
            },
            "marker": {
             "line": {
              "color": "#E5ECF6",
              "width": 0.5
             },
             "pattern": {
              "fillmode": "overlay",
              "size": 10,
              "solidity": 0.2
             }
            },
            "type": "bar"
           }
          ],
          "barpolar": [
           {
            "marker": {
             "line": {
              "color": "#E5ECF6",
              "width": 0.5
             },
             "pattern": {
              "fillmode": "overlay",
              "size": 10,
              "solidity": 0.2
             }
            },
            "type": "barpolar"
           }
          ],
          "carpet": [
           {
            "aaxis": {
             "endlinecolor": "#2a3f5f",
             "gridcolor": "white",
             "linecolor": "white",
             "minorgridcolor": "white",
             "startlinecolor": "#2a3f5f"
            },
            "baxis": {
             "endlinecolor": "#2a3f5f",
             "gridcolor": "white",
             "linecolor": "white",
             "minorgridcolor": "white",
             "startlinecolor": "#2a3f5f"
            },
            "type": "carpet"
           }
          ],
          "choropleth": [
           {
            "colorbar": {
             "outlinewidth": 0,
             "ticks": ""
            },
            "type": "choropleth"
           }
          ],
          "contour": [
           {
            "colorbar": {
             "outlinewidth": 0,
             "ticks": ""
            },
            "colorscale": [
             [
              0,
              "#0d0887"
             ],
             [
              0.1111111111111111,
              "#46039f"
             ],
             [
              0.2222222222222222,
              "#7201a8"
             ],
             [
              0.3333333333333333,
              "#9c179e"
             ],
             [
              0.4444444444444444,
              "#bd3786"
             ],
             [
              0.5555555555555556,
              "#d8576b"
             ],
             [
              0.6666666666666666,
              "#ed7953"
             ],
             [
              0.7777777777777778,
              "#fb9f3a"
             ],
             [
              0.8888888888888888,
              "#fdca26"
             ],
             [
              1,
              "#f0f921"
             ]
            ],
            "type": "contour"
           }
          ],
          "contourcarpet": [
           {
            "colorbar": {
             "outlinewidth": 0,
             "ticks": ""
            },
            "type": "contourcarpet"
           }
          ],
          "heatmap": [
           {
            "colorbar": {
             "outlinewidth": 0,
             "ticks": ""
            },
            "colorscale": [
             [
              0,
              "#0d0887"
             ],
             [
              0.1111111111111111,
              "#46039f"
             ],
             [
              0.2222222222222222,
              "#7201a8"
             ],
             [
              0.3333333333333333,
              "#9c179e"
             ],
             [
              0.4444444444444444,
              "#bd3786"
             ],
             [
              0.5555555555555556,
              "#d8576b"
             ],
             [
              0.6666666666666666,
              "#ed7953"
             ],
             [
              0.7777777777777778,
              "#fb9f3a"
             ],
             [
              0.8888888888888888,
              "#fdca26"
             ],
             [
              1,
              "#f0f921"
             ]
            ],
            "type": "heatmap"
           }
          ],
          "heatmapgl": [
           {
            "colorbar": {
             "outlinewidth": 0,
             "ticks": ""
            },
            "colorscale": [
             [
              0,
              "#0d0887"
             ],
             [
              0.1111111111111111,
              "#46039f"
             ],
             [
              0.2222222222222222,
              "#7201a8"
             ],
             [
              0.3333333333333333,
              "#9c179e"
             ],
             [
              0.4444444444444444,
              "#bd3786"
             ],
             [
              0.5555555555555556,
              "#d8576b"
             ],
             [
              0.6666666666666666,
              "#ed7953"
             ],
             [
              0.7777777777777778,
              "#fb9f3a"
             ],
             [
              0.8888888888888888,
              "#fdca26"
             ],
             [
              1,
              "#f0f921"
             ]
            ],
            "type": "heatmapgl"
           }
          ],
          "histogram": [
           {
            "marker": {
             "pattern": {
              "fillmode": "overlay",
              "size": 10,
              "solidity": 0.2
             }
            },
            "type": "histogram"
           }
          ],
          "histogram2d": [
           {
            "colorbar": {
             "outlinewidth": 0,
             "ticks": ""
            },
            "colorscale": [
             [
              0,
              "#0d0887"
             ],
             [
              0.1111111111111111,
              "#46039f"
             ],
             [
              0.2222222222222222,
              "#7201a8"
             ],
             [
              0.3333333333333333,
              "#9c179e"
             ],
             [
              0.4444444444444444,
              "#bd3786"
             ],
             [
              0.5555555555555556,
              "#d8576b"
             ],
             [
              0.6666666666666666,
              "#ed7953"
             ],
             [
              0.7777777777777778,
              "#fb9f3a"
             ],
             [
              0.8888888888888888,
              "#fdca26"
             ],
             [
              1,
              "#f0f921"
             ]
            ],
            "type": "histogram2d"
           }
          ],
          "histogram2dcontour": [
           {
            "colorbar": {
             "outlinewidth": 0,
             "ticks": ""
            },
            "colorscale": [
             [
              0,
              "#0d0887"
             ],
             [
              0.1111111111111111,
              "#46039f"
             ],
             [
              0.2222222222222222,
              "#7201a8"
             ],
             [
              0.3333333333333333,
              "#9c179e"
             ],
             [
              0.4444444444444444,
              "#bd3786"
             ],
             [
              0.5555555555555556,
              "#d8576b"
             ],
             [
              0.6666666666666666,
              "#ed7953"
             ],
             [
              0.7777777777777778,
              "#fb9f3a"
             ],
             [
              0.8888888888888888,
              "#fdca26"
             ],
             [
              1,
              "#f0f921"
             ]
            ],
            "type": "histogram2dcontour"
           }
          ],
          "mesh3d": [
           {
            "colorbar": {
             "outlinewidth": 0,
             "ticks": ""
            },
            "type": "mesh3d"
           }
          ],
          "parcoords": [
           {
            "line": {
             "colorbar": {
              "outlinewidth": 0,
              "ticks": ""
             }
            },
            "type": "parcoords"
           }
          ],
          "pie": [
           {
            "automargin": true,
            "type": "pie"
           }
          ],
          "scatter": [
           {
            "fillpattern": {
             "fillmode": "overlay",
             "size": 10,
             "solidity": 0.2
            },
            "type": "scatter"
           }
          ],
          "scatter3d": [
           {
            "line": {
             "colorbar": {
              "outlinewidth": 0,
              "ticks": ""
             }
            },
            "marker": {
             "colorbar": {
              "outlinewidth": 0,
              "ticks": ""
             }
            },
            "type": "scatter3d"
           }
          ],
          "scattercarpet": [
           {
            "marker": {
             "colorbar": {
              "outlinewidth": 0,
              "ticks": ""
             }
            },
            "type": "scattercarpet"
           }
          ],
          "scattergeo": [
           {
            "marker": {
             "colorbar": {
              "outlinewidth": 0,
              "ticks": ""
             }
            },
            "type": "scattergeo"
           }
          ],
          "scattergl": [
           {
            "marker": {
             "colorbar": {
              "outlinewidth": 0,
              "ticks": ""
             }
            },
            "type": "scattergl"
           }
          ],
          "scattermapbox": [
           {
            "marker": {
             "colorbar": {
              "outlinewidth": 0,
              "ticks": ""
             }
            },
            "type": "scattermapbox"
           }
          ],
          "scatterpolar": [
           {
            "marker": {
             "colorbar": {
              "outlinewidth": 0,
              "ticks": ""
             }
            },
            "type": "scatterpolar"
           }
          ],
          "scatterpolargl": [
           {
            "marker": {
             "colorbar": {
              "outlinewidth": 0,
              "ticks": ""
             }
            },
            "type": "scatterpolargl"
           }
          ],
          "scatterternary": [
           {
            "marker": {
             "colorbar": {
              "outlinewidth": 0,
              "ticks": ""
             }
            },
            "type": "scatterternary"
           }
          ],
          "surface": [
           {
            "colorbar": {
             "outlinewidth": 0,
             "ticks": ""
            },
            "colorscale": [
             [
              0,
              "#0d0887"
             ],
             [
              0.1111111111111111,
              "#46039f"
             ],
             [
              0.2222222222222222,
              "#7201a8"
             ],
             [
              0.3333333333333333,
              "#9c179e"
             ],
             [
              0.4444444444444444,
              "#bd3786"
             ],
             [
              0.5555555555555556,
              "#d8576b"
             ],
             [
              0.6666666666666666,
              "#ed7953"
             ],
             [
              0.7777777777777778,
              "#fb9f3a"
             ],
             [
              0.8888888888888888,
              "#fdca26"
             ],
             [
              1,
              "#f0f921"
             ]
            ],
            "type": "surface"
           }
          ],
          "table": [
           {
            "cells": {
             "fill": {
              "color": "#EBF0F8"
             },
             "line": {
              "color": "white"
             }
            },
            "header": {
             "fill": {
              "color": "#C8D4E3"
             },
             "line": {
              "color": "white"
             }
            },
            "type": "table"
           }
          ]
         },
         "layout": {
          "annotationdefaults": {
           "arrowcolor": "#2a3f5f",
           "arrowhead": 0,
           "arrowwidth": 1
          },
          "autotypenumbers": "strict",
          "coloraxis": {
           "colorbar": {
            "outlinewidth": 0,
            "ticks": ""
           }
          },
          "colorscale": {
           "diverging": [
            [
             0,
             "#8e0152"
            ],
            [
             0.1,
             "#c51b7d"
            ],
            [
             0.2,
             "#de77ae"
            ],
            [
             0.3,
             "#f1b6da"
            ],
            [
             0.4,
             "#fde0ef"
            ],
            [
             0.5,
             "#f7f7f7"
            ],
            [
             0.6,
             "#e6f5d0"
            ],
            [
             0.7,
             "#b8e186"
            ],
            [
             0.8,
             "#7fbc41"
            ],
            [
             0.9,
             "#4d9221"
            ],
            [
             1,
             "#276419"
            ]
           ],
           "sequential": [
            [
             0,
             "#0d0887"
            ],
            [
             0.1111111111111111,
             "#46039f"
            ],
            [
             0.2222222222222222,
             "#7201a8"
            ],
            [
             0.3333333333333333,
             "#9c179e"
            ],
            [
             0.4444444444444444,
             "#bd3786"
            ],
            [
             0.5555555555555556,
             "#d8576b"
            ],
            [
             0.6666666666666666,
             "#ed7953"
            ],
            [
             0.7777777777777778,
             "#fb9f3a"
            ],
            [
             0.8888888888888888,
             "#fdca26"
            ],
            [
             1,
             "#f0f921"
            ]
           ],
           "sequentialminus": [
            [
             0,
             "#0d0887"
            ],
            [
             0.1111111111111111,
             "#46039f"
            ],
            [
             0.2222222222222222,
             "#7201a8"
            ],
            [
             0.3333333333333333,
             "#9c179e"
            ],
            [
             0.4444444444444444,
             "#bd3786"
            ],
            [
             0.5555555555555556,
             "#d8576b"
            ],
            [
             0.6666666666666666,
             "#ed7953"
            ],
            [
             0.7777777777777778,
             "#fb9f3a"
            ],
            [
             0.8888888888888888,
             "#fdca26"
            ],
            [
             1,
             "#f0f921"
            ]
           ]
          },
          "colorway": [
           "#636efa",
           "#EF553B",
           "#00cc96",
           "#ab63fa",
           "#FFA15A",
           "#19d3f3",
           "#FF6692",
           "#B6E880",
           "#FF97FF",
           "#FECB52"
          ],
          "font": {
           "color": "#2a3f5f"
          },
          "geo": {
           "bgcolor": "white",
           "lakecolor": "white",
           "landcolor": "#E5ECF6",
           "showlakes": true,
           "showland": true,
           "subunitcolor": "white"
          },
          "hoverlabel": {
           "align": "left"
          },
          "hovermode": "closest",
          "mapbox": {
           "style": "light"
          },
          "paper_bgcolor": "white",
          "plot_bgcolor": "#E5ECF6",
          "polar": {
           "angularaxis": {
            "gridcolor": "white",
            "linecolor": "white",
            "ticks": ""
           },
           "bgcolor": "#E5ECF6",
           "radialaxis": {
            "gridcolor": "white",
            "linecolor": "white",
            "ticks": ""
           }
          },
          "scene": {
           "xaxis": {
            "backgroundcolor": "#E5ECF6",
            "gridcolor": "white",
            "gridwidth": 2,
            "linecolor": "white",
            "showbackground": true,
            "ticks": "",
            "zerolinecolor": "white"
           },
           "yaxis": {
            "backgroundcolor": "#E5ECF6",
            "gridcolor": "white",
            "gridwidth": 2,
            "linecolor": "white",
            "showbackground": true,
            "ticks": "",
            "zerolinecolor": "white"
           },
           "zaxis": {
            "backgroundcolor": "#E5ECF6",
            "gridcolor": "white",
            "gridwidth": 2,
            "linecolor": "white",
            "showbackground": true,
            "ticks": "",
            "zerolinecolor": "white"
           }
          },
          "shapedefaults": {
           "line": {
            "color": "#2a3f5f"
           }
          },
          "ternary": {
           "aaxis": {
            "gridcolor": "white",
            "linecolor": "white",
            "ticks": ""
           },
           "baxis": {
            "gridcolor": "white",
            "linecolor": "white",
            "ticks": ""
           },
           "bgcolor": "#E5ECF6",
           "caxis": {
            "gridcolor": "white",
            "linecolor": "white",
            "ticks": ""
           }
          },
          "title": {
           "x": 0.05
          },
          "xaxis": {
           "automargin": true,
           "gridcolor": "white",
           "linecolor": "white",
           "ticks": "",
           "title": {
            "standoff": 15
           },
           "zerolinecolor": "white",
           "zerolinewidth": 2
          },
          "yaxis": {
           "automargin": true,
           "gridcolor": "white",
           "linecolor": "white",
           "ticks": "",
           "title": {
            "standoff": 15
           },
           "zerolinecolor": "white",
           "zerolinewidth": 2
          }
         }
        },
        "width": 1400,
        "xaxis": {
         "anchor": "y",
         "domain": [
          0,
          1
         ],
         "title": {
          "text": "x"
         }
        },
        "yaxis": {
         "anchor": "x",
         "domain": [
          0,
          1
         ],
         "title": {
          "text": "y"
         }
        }
       }
      }
     },
     "metadata": {},
     "output_type": "display_data"
    }
   ],
   "source": [
    "fig = px.scatter(x=tsne_projection[0], \n",
    "                 y=tsne_projection[1], \n",
    "                 text=tsne_projection.droplevel(0).index, \n",
    "                 color=predictions)\n",
    "fig.update_layout(width=1400,height=900)\n",
    "fig.show()\n"
   ]
  },
  {
   "cell_type": "code",
   "execution_count": 18,
   "metadata": {},
   "outputs": [
    {
     "data": {
      "text/plain": [
       "['feature_8',\n",
       " 'feature_9',\n",
       " 'feature_18',\n",
       " 'feature_9',\n",
       " 'feature_2',\n",
       " 'feature_9',\n",
       " 'feature_8',\n",
       " 'feature_5',\n",
       " 'feature_8',\n",
       " 'feature_16',\n",
       " 'feature_8',\n",
       " 'feature_5',\n",
       " 'feature_5',\n",
       " 'feature_2',\n",
       " 'feature_1',\n",
       " 'feature_13',\n",
       " 'feature_7',\n",
       " 'feature_5',\n",
       " 'feature_13',\n",
       " 'feature_7',\n",
       " 'feature_0',\n",
       " 'feature_13',\n",
       " 'feature_5',\n",
       " 'feature_0',\n",
       " 'feature_3',\n",
       " 'feature_19',\n",
       " 'feature_4',\n",
       " 'feature_18',\n",
       " 'feature_2',\n",
       " 'feature_0',\n",
       " 'feature_0',\n",
       " 'feature_15',\n",
       " 'feature_1',\n",
       " 'feature_2',\n",
       " 'feature_17',\n",
       " 'feature_19',\n",
       " 'feature_14',\n",
       " 'feature_2',\n",
       " 'feature_6',\n",
       " 'feature_6',\n",
       " 'feature_1',\n",
       " 'feature_6',\n",
       " 'feature_16',\n",
       " 'feature_8',\n",
       " 'feature_4',\n",
       " 'feature_2',\n",
       " 'feature_3',\n",
       " 'feature_4',\n",
       " 'feature_13',\n",
       " 'feature_1',\n",
       " 'feature_6',\n",
       " 'feature_4',\n",
       " 'feature_2',\n",
       " 'feature_2',\n",
       " 'feature_14',\n",
       " 'feature_14',\n",
       " 'feature_0',\n",
       " 'feature_4',\n",
       " 'feature_3',\n",
       " 'feature_0',\n",
       " 'feature_0',\n",
       " 'feature_3',\n",
       " 'feature_4',\n",
       " 'feature_3',\n",
       " 'feature_15',\n",
       " 'feature_13',\n",
       " 'feature_11',\n",
       " 'feature_4',\n",
       " 'feature_4',\n",
       " 'feature_7',\n",
       " 'feature_2',\n",
       " 'feature_2',\n",
       " 'feature_17',\n",
       " 'feature_14',\n",
       " 'feature_16',\n",
       " 'feature_17',\n",
       " 'feature_0',\n",
       " 'feature_0',\n",
       " 'feature_0',\n",
       " 'feature_9',\n",
       " 'feature_3',\n",
       " 'feature_0',\n",
       " 'feature_0',\n",
       " 'feature_1',\n",
       " 'feature_12',\n",
       " 'feature_11',\n",
       " 'feature_1',\n",
       " 'feature_12',\n",
       " 'feature_1',\n",
       " 'feature_1',\n",
       " 'feature_12',\n",
       " 'feature_12',\n",
       " 'feature_1',\n",
       " 'feature_10',\n",
       " 'feature_10',\n",
       " 'feature_2',\n",
       " 'feature_3']"
      ]
     },
     "execution_count": 18,
     "metadata": {},
     "output_type": "execute_result"
    }
   ],
   "source": [
    "predictions=[\"feature_\" +  str(num) for num in predictions]\n",
    "predictions\n",
    "predictions"
   ]
  },
  {
   "cell_type": "code",
   "execution_count": 19,
   "metadata": {},
   "outputs": [
    {
     "data": {
      "text/plain": [
       "['Julia',\n",
       " 'Matlab',\n",
       " 'Python',\n",
       " 'R',\n",
       " 'Django',\n",
       " 'FastAPI',\n",
       " 'Flask',\n",
       " 'Keras',\n",
       " 'NumPy',\n",
       " 'Pandas',\n",
       " 'TensorFlow',\n",
       " 'Torch/PyTorch']"
      ]
     },
     "execution_count": 19,
     "metadata": {},
     "output_type": "execute_result"
    }
   ],
   "source": [
    "aa=dict(tsne_projection.droplevel(0).index.groupby(predictions))\n",
    "list(aa[\"feature_0\"])"
   ]
  },
  {
   "cell_type": "code",
   "execution_count": 20,
   "metadata": {},
   "outputs": [
    {
     "data": {
      "text/html": [
       "<div>\n",
       "<style scoped>\n",
       "    .dataframe tbody tr th:only-of-type {\n",
       "        vertical-align: middle;\n",
       "    }\n",
       "\n",
       "    .dataframe tbody tr th {\n",
       "        vertical-align: top;\n",
       "    }\n",
       "\n",
       "    .dataframe thead th {\n",
       "        text-align: right;\n",
       "    }\n",
       "</style>\n",
       "<table border=\"1\" class=\"dataframe\">\n",
       "  <thead>\n",
       "    <tr style=\"text-align: right;\">\n",
       "      <th></th>\n",
       "      <th>Academic researcher</th>\n",
       "      <th>Data or business analyst</th>\n",
       "      <th>Data scientist or machine learning specialist</th>\n",
       "      <th>Database administrator</th>\n",
       "      <th>Designer</th>\n",
       "      <th>DevOps specialist</th>\n",
       "      <th>Developer, QA or test</th>\n",
       "      <th>Developer, back-end</th>\n",
       "      <th>Developer, desktop or enterprise applications</th>\n",
       "      <th>Developer, embedded applications or devices</th>\n",
       "      <th>...</th>\n",
       "      <th>Flow</th>\n",
       "      <th>Git</th>\n",
       "      <th>Kubernetes</th>\n",
       "      <th>Pulumi</th>\n",
       "      <th>Puppet</th>\n",
       "      <th>Terraform</th>\n",
       "      <th>Unity 3D</th>\n",
       "      <th>Unreal Engine</th>\n",
       "      <th>Xamarin</th>\n",
       "      <th>Yarn</th>\n",
       "    </tr>\n",
       "  </thead>\n",
       "  <tbody>\n",
       "    <tr>\n",
       "      <th>0</th>\n",
       "      <td>0</td>\n",
       "      <td>0</td>\n",
       "      <td>0</td>\n",
       "      <td>0</td>\n",
       "      <td>0</td>\n",
       "      <td>0</td>\n",
       "      <td>0</td>\n",
       "      <td>0</td>\n",
       "      <td>0</td>\n",
       "      <td>0</td>\n",
       "      <td>...</td>\n",
       "      <td>0</td>\n",
       "      <td>0</td>\n",
       "      <td>0</td>\n",
       "      <td>0</td>\n",
       "      <td>0</td>\n",
       "      <td>0</td>\n",
       "      <td>0</td>\n",
       "      <td>0</td>\n",
       "      <td>0</td>\n",
       "      <td>0</td>\n",
       "    </tr>\n",
       "    <tr>\n",
       "      <th>1</th>\n",
       "      <td>0</td>\n",
       "      <td>0</td>\n",
       "      <td>0</td>\n",
       "      <td>0</td>\n",
       "      <td>0</td>\n",
       "      <td>0</td>\n",
       "      <td>0</td>\n",
       "      <td>0</td>\n",
       "      <td>0</td>\n",
       "      <td>0</td>\n",
       "      <td>...</td>\n",
       "      <td>0</td>\n",
       "      <td>1</td>\n",
       "      <td>0</td>\n",
       "      <td>0</td>\n",
       "      <td>0</td>\n",
       "      <td>0</td>\n",
       "      <td>0</td>\n",
       "      <td>0</td>\n",
       "      <td>0</td>\n",
       "      <td>1</td>\n",
       "    </tr>\n",
       "    <tr>\n",
       "      <th>2</th>\n",
       "      <td>0</td>\n",
       "      <td>0</td>\n",
       "      <td>0</td>\n",
       "      <td>0</td>\n",
       "      <td>0</td>\n",
       "      <td>0</td>\n",
       "      <td>0</td>\n",
       "      <td>0</td>\n",
       "      <td>0</td>\n",
       "      <td>0</td>\n",
       "      <td>...</td>\n",
       "      <td>0</td>\n",
       "      <td>0</td>\n",
       "      <td>0</td>\n",
       "      <td>0</td>\n",
       "      <td>0</td>\n",
       "      <td>0</td>\n",
       "      <td>0</td>\n",
       "      <td>0</td>\n",
       "      <td>0</td>\n",
       "      <td>0</td>\n",
       "    </tr>\n",
       "    <tr>\n",
       "      <th>3</th>\n",
       "      <td>0</td>\n",
       "      <td>0</td>\n",
       "      <td>0</td>\n",
       "      <td>0</td>\n",
       "      <td>0</td>\n",
       "      <td>0</td>\n",
       "      <td>0</td>\n",
       "      <td>0</td>\n",
       "      <td>0</td>\n",
       "      <td>0</td>\n",
       "      <td>...</td>\n",
       "      <td>0</td>\n",
       "      <td>0</td>\n",
       "      <td>0</td>\n",
       "      <td>0</td>\n",
       "      <td>0</td>\n",
       "      <td>0</td>\n",
       "      <td>0</td>\n",
       "      <td>0</td>\n",
       "      <td>0</td>\n",
       "      <td>0</td>\n",
       "    </tr>\n",
       "    <tr>\n",
       "      <th>4</th>\n",
       "      <td>0</td>\n",
       "      <td>0</td>\n",
       "      <td>0</td>\n",
       "      <td>0</td>\n",
       "      <td>0</td>\n",
       "      <td>0</td>\n",
       "      <td>0</td>\n",
       "      <td>0</td>\n",
       "      <td>1</td>\n",
       "      <td>0</td>\n",
       "      <td>...</td>\n",
       "      <td>0</td>\n",
       "      <td>1</td>\n",
       "      <td>1</td>\n",
       "      <td>0</td>\n",
       "      <td>0</td>\n",
       "      <td>0</td>\n",
       "      <td>0</td>\n",
       "      <td>0</td>\n",
       "      <td>0</td>\n",
       "      <td>1</td>\n",
       "    </tr>\n",
       "    <tr>\n",
       "      <th>...</th>\n",
       "      <td>...</td>\n",
       "      <td>...</td>\n",
       "      <td>...</td>\n",
       "      <td>...</td>\n",
       "      <td>...</td>\n",
       "      <td>...</td>\n",
       "      <td>...</td>\n",
       "      <td>...</td>\n",
       "      <td>...</td>\n",
       "      <td>...</td>\n",
       "      <td>...</td>\n",
       "      <td>...</td>\n",
       "      <td>...</td>\n",
       "      <td>...</td>\n",
       "      <td>...</td>\n",
       "      <td>...</td>\n",
       "      <td>...</td>\n",
       "      <td>...</td>\n",
       "      <td>...</td>\n",
       "      <td>...</td>\n",
       "      <td>...</td>\n",
       "    </tr>\n",
       "    <tr>\n",
       "      <th>83434</th>\n",
       "      <td>0</td>\n",
       "      <td>0</td>\n",
       "      <td>0</td>\n",
       "      <td>0</td>\n",
       "      <td>0</td>\n",
       "      <td>0</td>\n",
       "      <td>0</td>\n",
       "      <td>1</td>\n",
       "      <td>0</td>\n",
       "      <td>0</td>\n",
       "      <td>...</td>\n",
       "      <td>0</td>\n",
       "      <td>1</td>\n",
       "      <td>0</td>\n",
       "      <td>0</td>\n",
       "      <td>0</td>\n",
       "      <td>0</td>\n",
       "      <td>0</td>\n",
       "      <td>0</td>\n",
       "      <td>0</td>\n",
       "      <td>0</td>\n",
       "    </tr>\n",
       "    <tr>\n",
       "      <th>83435</th>\n",
       "      <td>0</td>\n",
       "      <td>0</td>\n",
       "      <td>0</td>\n",
       "      <td>0</td>\n",
       "      <td>0</td>\n",
       "      <td>0</td>\n",
       "      <td>0</td>\n",
       "      <td>0</td>\n",
       "      <td>0</td>\n",
       "      <td>0</td>\n",
       "      <td>...</td>\n",
       "      <td>0</td>\n",
       "      <td>1</td>\n",
       "      <td>0</td>\n",
       "      <td>0</td>\n",
       "      <td>0</td>\n",
       "      <td>0</td>\n",
       "      <td>1</td>\n",
       "      <td>1</td>\n",
       "      <td>0</td>\n",
       "      <td>0</td>\n",
       "    </tr>\n",
       "    <tr>\n",
       "      <th>83436</th>\n",
       "      <td>0</td>\n",
       "      <td>0</td>\n",
       "      <td>1</td>\n",
       "      <td>0</td>\n",
       "      <td>0</td>\n",
       "      <td>1</td>\n",
       "      <td>0</td>\n",
       "      <td>0</td>\n",
       "      <td>0</td>\n",
       "      <td>0</td>\n",
       "      <td>...</td>\n",
       "      <td>0</td>\n",
       "      <td>1</td>\n",
       "      <td>0</td>\n",
       "      <td>0</td>\n",
       "      <td>0</td>\n",
       "      <td>1</td>\n",
       "      <td>0</td>\n",
       "      <td>0</td>\n",
       "      <td>0</td>\n",
       "      <td>0</td>\n",
       "    </tr>\n",
       "    <tr>\n",
       "      <th>83437</th>\n",
       "      <td>0</td>\n",
       "      <td>0</td>\n",
       "      <td>0</td>\n",
       "      <td>0</td>\n",
       "      <td>0</td>\n",
       "      <td>0</td>\n",
       "      <td>0</td>\n",
       "      <td>1</td>\n",
       "      <td>0</td>\n",
       "      <td>0</td>\n",
       "      <td>...</td>\n",
       "      <td>0</td>\n",
       "      <td>1</td>\n",
       "      <td>0</td>\n",
       "      <td>0</td>\n",
       "      <td>0</td>\n",
       "      <td>1</td>\n",
       "      <td>0</td>\n",
       "      <td>0</td>\n",
       "      <td>0</td>\n",
       "      <td>0</td>\n",
       "    </tr>\n",
       "    <tr>\n",
       "      <th>83438</th>\n",
       "      <td>0</td>\n",
       "      <td>0</td>\n",
       "      <td>0</td>\n",
       "      <td>0</td>\n",
       "      <td>0</td>\n",
       "      <td>0</td>\n",
       "      <td>0</td>\n",
       "      <td>1</td>\n",
       "      <td>0</td>\n",
       "      <td>0</td>\n",
       "      <td>...</td>\n",
       "      <td>0</td>\n",
       "      <td>1</td>\n",
       "      <td>0</td>\n",
       "      <td>0</td>\n",
       "      <td>0</td>\n",
       "      <td>0</td>\n",
       "      <td>0</td>\n",
       "      <td>0</td>\n",
       "      <td>0</td>\n",
       "      <td>0</td>\n",
       "    </tr>\n",
       "  </tbody>\n",
       "</table>\n",
       "<p>83439 rows × 122 columns</p>\n",
       "</div>"
      ],
      "text/plain": [
       "       Academic researcher  Data or business analyst  \\\n",
       "0                        0                         0   \n",
       "1                        0                         0   \n",
       "2                        0                         0   \n",
       "3                        0                         0   \n",
       "4                        0                         0   \n",
       "...                    ...                       ...   \n",
       "83434                    0                         0   \n",
       "83435                    0                         0   \n",
       "83436                    0                         0   \n",
       "83437                    0                         0   \n",
       "83438                    0                         0   \n",
       "\n",
       "       Data scientist or machine learning specialist  Database administrator  \\\n",
       "0                                                  0                       0   \n",
       "1                                                  0                       0   \n",
       "2                                                  0                       0   \n",
       "3                                                  0                       0   \n",
       "4                                                  0                       0   \n",
       "...                                              ...                     ...   \n",
       "83434                                              0                       0   \n",
       "83435                                              0                       0   \n",
       "83436                                              1                       0   \n",
       "83437                                              0                       0   \n",
       "83438                                              0                       0   \n",
       "\n",
       "       Designer  DevOps specialist  Developer, QA or test  \\\n",
       "0             0                  0                      0   \n",
       "1             0                  0                      0   \n",
       "2             0                  0                      0   \n",
       "3             0                  0                      0   \n",
       "4             0                  0                      0   \n",
       "...         ...                ...                    ...   \n",
       "83434         0                  0                      0   \n",
       "83435         0                  0                      0   \n",
       "83436         0                  1                      0   \n",
       "83437         0                  0                      0   \n",
       "83438         0                  0                      0   \n",
       "\n",
       "       Developer, back-end  Developer, desktop or enterprise applications  \\\n",
       "0                        0                                              0   \n",
       "1                        0                                              0   \n",
       "2                        0                                              0   \n",
       "3                        0                                              0   \n",
       "4                        0                                              1   \n",
       "...                    ...                                            ...   \n",
       "83434                    1                                              0   \n",
       "83435                    0                                              0   \n",
       "83436                    0                                              0   \n",
       "83437                    1                                              0   \n",
       "83438                    1                                              0   \n",
       "\n",
       "       Developer, embedded applications or devices  ...  Flow  Git  \\\n",
       "0                                                0  ...     0    0   \n",
       "1                                                0  ...     0    1   \n",
       "2                                                0  ...     0    0   \n",
       "3                                                0  ...     0    0   \n",
       "4                                                0  ...     0    1   \n",
       "...                                            ...  ...   ...  ...   \n",
       "83434                                            0  ...     0    1   \n",
       "83435                                            0  ...     0    1   \n",
       "83436                                            0  ...     0    1   \n",
       "83437                                            0  ...     0    1   \n",
       "83438                                            0  ...     0    1   \n",
       "\n",
       "       Kubernetes  Pulumi  Puppet  Terraform  Unity 3D  Unreal Engine  \\\n",
       "0               0       0       0          0         0              0   \n",
       "1               0       0       0          0         0              0   \n",
       "2               0       0       0          0         0              0   \n",
       "3               0       0       0          0         0              0   \n",
       "4               1       0       0          0         0              0   \n",
       "...           ...     ...     ...        ...       ...            ...   \n",
       "83434           0       0       0          0         0              0   \n",
       "83435           0       0       0          0         1              1   \n",
       "83436           0       0       0          1         0              0   \n",
       "83437           0       0       0          1         0              0   \n",
       "83438           0       0       0          0         0              0   \n",
       "\n",
       "       Xamarin  Yarn  \n",
       "0            0     0  \n",
       "1            0     1  \n",
       "2            0     0  \n",
       "3            0     0  \n",
       "4            0     1  \n",
       "...        ...   ...  \n",
       "83434        0     0  \n",
       "83435        0     0  \n",
       "83436        0     0  \n",
       "83437        0     0  \n",
       "83438        0     0  \n",
       "\n",
       "[83439 rows x 122 columns]"
      ]
     },
     "execution_count": 20,
     "metadata": {},
     "output_type": "execute_result"
    }
   ],
   "source": [
    "encoded_dfs.droplevel(0,axis=1)"
   ]
  },
  {
   "cell_type": "code",
   "execution_count": 21,
   "metadata": {},
   "outputs": [],
   "source": [
    "new_data={}\n",
    "for feature,classes in aa.items():\n",
    "    # print(feature)\n",
    "    # print(list(calsses))\n",
    "    new_data[feature]=encoded_dfs.droplevel(0,axis=1)[classes].sum(axis=1)\n",
    "new_data=pd.DataFrame(new_data)"
   ]
  },
  {
   "cell_type": "code",
   "execution_count": 22,
   "metadata": {},
   "outputs": [
    {
     "data": {
      "text/html": [
       "<div>\n",
       "<style scoped>\n",
       "    .dataframe tbody tr th:only-of-type {\n",
       "        vertical-align: middle;\n",
       "    }\n",
       "\n",
       "    .dataframe tbody tr th {\n",
       "        vertical-align: top;\n",
       "    }\n",
       "\n",
       "    .dataframe thead th {\n",
       "        text-align: right;\n",
       "    }\n",
       "</style>\n",
       "<table border=\"1\" class=\"dataframe\">\n",
       "  <thead>\n",
       "    <tr style=\"text-align: right;\">\n",
       "      <th></th>\n",
       "      <th>feature_0</th>\n",
       "      <th>feature_1</th>\n",
       "      <th>feature_10</th>\n",
       "      <th>feature_11</th>\n",
       "      <th>feature_12</th>\n",
       "      <th>feature_13</th>\n",
       "      <th>feature_14</th>\n",
       "      <th>feature_15</th>\n",
       "      <th>feature_16</th>\n",
       "      <th>feature_17</th>\n",
       "      <th>feature_18</th>\n",
       "      <th>feature_19</th>\n",
       "      <th>feature_2</th>\n",
       "      <th>feature_3</th>\n",
       "      <th>feature_4</th>\n",
       "      <th>feature_5</th>\n",
       "      <th>feature_6</th>\n",
       "      <th>feature_7</th>\n",
       "      <th>feature_8</th>\n",
       "      <th>feature_9</th>\n",
       "    </tr>\n",
       "  </thead>\n",
       "  <tbody>\n",
       "    <tr>\n",
       "      <th>0</th>\n",
       "      <td>0</td>\n",
       "      <td>1</td>\n",
       "      <td>0</td>\n",
       "      <td>0</td>\n",
       "      <td>0</td>\n",
       "      <td>0</td>\n",
       "      <td>0</td>\n",
       "      <td>0</td>\n",
       "      <td>0</td>\n",
       "      <td>0</td>\n",
       "      <td>0</td>\n",
       "      <td>2</td>\n",
       "      <td>0</td>\n",
       "      <td>0</td>\n",
       "      <td>4</td>\n",
       "      <td>0</td>\n",
       "      <td>0</td>\n",
       "      <td>2</td>\n",
       "      <td>0</td>\n",
       "      <td>1</td>\n",
       "    </tr>\n",
       "    <tr>\n",
       "      <th>1</th>\n",
       "      <td>2</td>\n",
       "      <td>3</td>\n",
       "      <td>0</td>\n",
       "      <td>0</td>\n",
       "      <td>0</td>\n",
       "      <td>0</td>\n",
       "      <td>2</td>\n",
       "      <td>0</td>\n",
       "      <td>0</td>\n",
       "      <td>0</td>\n",
       "      <td>0</td>\n",
       "      <td>0</td>\n",
       "      <td>0</td>\n",
       "      <td>1</td>\n",
       "      <td>1</td>\n",
       "      <td>0</td>\n",
       "      <td>0</td>\n",
       "      <td>1</td>\n",
       "      <td>0</td>\n",
       "      <td>0</td>\n",
       "    </tr>\n",
       "    <tr>\n",
       "      <th>2</th>\n",
       "      <td>7</td>\n",
       "      <td>1</td>\n",
       "      <td>0</td>\n",
       "      <td>0</td>\n",
       "      <td>0</td>\n",
       "      <td>0</td>\n",
       "      <td>0</td>\n",
       "      <td>0</td>\n",
       "      <td>0</td>\n",
       "      <td>0</td>\n",
       "      <td>0</td>\n",
       "      <td>0</td>\n",
       "      <td>0</td>\n",
       "      <td>0</td>\n",
       "      <td>1</td>\n",
       "      <td>0</td>\n",
       "      <td>0</td>\n",
       "      <td>0</td>\n",
       "      <td>0</td>\n",
       "      <td>2</td>\n",
       "    </tr>\n",
       "    <tr>\n",
       "      <th>3</th>\n",
       "      <td>0</td>\n",
       "      <td>0</td>\n",
       "      <td>0</td>\n",
       "      <td>0</td>\n",
       "      <td>0</td>\n",
       "      <td>0</td>\n",
       "      <td>2</td>\n",
       "      <td>0</td>\n",
       "      <td>0</td>\n",
       "      <td>0</td>\n",
       "      <td>0</td>\n",
       "      <td>0</td>\n",
       "      <td>0</td>\n",
       "      <td>0</td>\n",
       "      <td>0</td>\n",
       "      <td>0</td>\n",
       "      <td>0</td>\n",
       "      <td>2</td>\n",
       "      <td>0</td>\n",
       "      <td>0</td>\n",
       "    </tr>\n",
       "    <tr>\n",
       "      <th>4</th>\n",
       "      <td>4</td>\n",
       "      <td>4</td>\n",
       "      <td>0</td>\n",
       "      <td>0</td>\n",
       "      <td>0</td>\n",
       "      <td>0</td>\n",
       "      <td>0</td>\n",
       "      <td>0</td>\n",
       "      <td>0</td>\n",
       "      <td>2</td>\n",
       "      <td>1</td>\n",
       "      <td>0</td>\n",
       "      <td>1</td>\n",
       "      <td>1</td>\n",
       "      <td>0</td>\n",
       "      <td>0</td>\n",
       "      <td>2</td>\n",
       "      <td>1</td>\n",
       "      <td>0</td>\n",
       "      <td>0</td>\n",
       "    </tr>\n",
       "    <tr>\n",
       "      <th>...</th>\n",
       "      <td>...</td>\n",
       "      <td>...</td>\n",
       "      <td>...</td>\n",
       "      <td>...</td>\n",
       "      <td>...</td>\n",
       "      <td>...</td>\n",
       "      <td>...</td>\n",
       "      <td>...</td>\n",
       "      <td>...</td>\n",
       "      <td>...</td>\n",
       "      <td>...</td>\n",
       "      <td>...</td>\n",
       "      <td>...</td>\n",
       "      <td>...</td>\n",
       "      <td>...</td>\n",
       "      <td>...</td>\n",
       "      <td>...</td>\n",
       "      <td>...</td>\n",
       "      <td>...</td>\n",
       "      <td>...</td>\n",
       "    </tr>\n",
       "    <tr>\n",
       "      <th>83434</th>\n",
       "      <td>0</td>\n",
       "      <td>2</td>\n",
       "      <td>0</td>\n",
       "      <td>0</td>\n",
       "      <td>0</td>\n",
       "      <td>2</td>\n",
       "      <td>0</td>\n",
       "      <td>0</td>\n",
       "      <td>0</td>\n",
       "      <td>0</td>\n",
       "      <td>0</td>\n",
       "      <td>0</td>\n",
       "      <td>1</td>\n",
       "      <td>0</td>\n",
       "      <td>1</td>\n",
       "      <td>1</td>\n",
       "      <td>0</td>\n",
       "      <td>0</td>\n",
       "      <td>0</td>\n",
       "      <td>0</td>\n",
       "    </tr>\n",
       "    <tr>\n",
       "      <th>83435</th>\n",
       "      <td>1</td>\n",
       "      <td>2</td>\n",
       "      <td>2</td>\n",
       "      <td>0</td>\n",
       "      <td>0</td>\n",
       "      <td>0</td>\n",
       "      <td>0</td>\n",
       "      <td>1</td>\n",
       "      <td>2</td>\n",
       "      <td>0</td>\n",
       "      <td>0</td>\n",
       "      <td>0</td>\n",
       "      <td>0</td>\n",
       "      <td>1</td>\n",
       "      <td>4</td>\n",
       "      <td>0</td>\n",
       "      <td>1</td>\n",
       "      <td>1</td>\n",
       "      <td>0</td>\n",
       "      <td>1</td>\n",
       "    </tr>\n",
       "    <tr>\n",
       "      <th>83436</th>\n",
       "      <td>6</td>\n",
       "      <td>6</td>\n",
       "      <td>0</td>\n",
       "      <td>0</td>\n",
       "      <td>0</td>\n",
       "      <td>2</td>\n",
       "      <td>0</td>\n",
       "      <td>0</td>\n",
       "      <td>0</td>\n",
       "      <td>1</td>\n",
       "      <td>0</td>\n",
       "      <td>0</td>\n",
       "      <td>0</td>\n",
       "      <td>1</td>\n",
       "      <td>0</td>\n",
       "      <td>0</td>\n",
       "      <td>2</td>\n",
       "      <td>0</td>\n",
       "      <td>0</td>\n",
       "      <td>0</td>\n",
       "    </tr>\n",
       "    <tr>\n",
       "      <th>83437</th>\n",
       "      <td>7</td>\n",
       "      <td>5</td>\n",
       "      <td>0</td>\n",
       "      <td>0</td>\n",
       "      <td>0</td>\n",
       "      <td>0</td>\n",
       "      <td>0</td>\n",
       "      <td>0</td>\n",
       "      <td>0</td>\n",
       "      <td>0</td>\n",
       "      <td>1</td>\n",
       "      <td>0</td>\n",
       "      <td>0</td>\n",
       "      <td>4</td>\n",
       "      <td>0</td>\n",
       "      <td>0</td>\n",
       "      <td>3</td>\n",
       "      <td>1</td>\n",
       "      <td>0</td>\n",
       "      <td>0</td>\n",
       "    </tr>\n",
       "    <tr>\n",
       "      <th>83438</th>\n",
       "      <td>0</td>\n",
       "      <td>3</td>\n",
       "      <td>0</td>\n",
       "      <td>0</td>\n",
       "      <td>0</td>\n",
       "      <td>3</td>\n",
       "      <td>1</td>\n",
       "      <td>0</td>\n",
       "      <td>0</td>\n",
       "      <td>0</td>\n",
       "      <td>0</td>\n",
       "      <td>0</td>\n",
       "      <td>0</td>\n",
       "      <td>0</td>\n",
       "      <td>0</td>\n",
       "      <td>1</td>\n",
       "      <td>0</td>\n",
       "      <td>2</td>\n",
       "      <td>1</td>\n",
       "      <td>0</td>\n",
       "    </tr>\n",
       "  </tbody>\n",
       "</table>\n",
       "<p>83439 rows × 20 columns</p>\n",
       "</div>"
      ],
      "text/plain": [
       "       feature_0  feature_1  feature_10  feature_11  feature_12  feature_13  \\\n",
       "0              0          1           0           0           0           0   \n",
       "1              2          3           0           0           0           0   \n",
       "2              7          1           0           0           0           0   \n",
       "3              0          0           0           0           0           0   \n",
       "4              4          4           0           0           0           0   \n",
       "...          ...        ...         ...         ...         ...         ...   \n",
       "83434          0          2           0           0           0           2   \n",
       "83435          1          2           2           0           0           0   \n",
       "83436          6          6           0           0           0           2   \n",
       "83437          7          5           0           0           0           0   \n",
       "83438          0          3           0           0           0           3   \n",
       "\n",
       "       feature_14  feature_15  feature_16  feature_17  feature_18  feature_19  \\\n",
       "0               0           0           0           0           0           2   \n",
       "1               2           0           0           0           0           0   \n",
       "2               0           0           0           0           0           0   \n",
       "3               2           0           0           0           0           0   \n",
       "4               0           0           0           2           1           0   \n",
       "...           ...         ...         ...         ...         ...         ...   \n",
       "83434           0           0           0           0           0           0   \n",
       "83435           0           1           2           0           0           0   \n",
       "83436           0           0           0           1           0           0   \n",
       "83437           0           0           0           0           1           0   \n",
       "83438           1           0           0           0           0           0   \n",
       "\n",
       "       feature_2  feature_3  feature_4  feature_5  feature_6  feature_7  \\\n",
       "0              0          0          4          0          0          2   \n",
       "1              0          1          1          0          0          1   \n",
       "2              0          0          1          0          0          0   \n",
       "3              0          0          0          0          0          2   \n",
       "4              1          1          0          0          2          1   \n",
       "...          ...        ...        ...        ...        ...        ...   \n",
       "83434          1          0          1          1          0          0   \n",
       "83435          0          1          4          0          1          1   \n",
       "83436          0          1          0          0          2          0   \n",
       "83437          0          4          0          0          3          1   \n",
       "83438          0          0          0          1          0          2   \n",
       "\n",
       "       feature_8  feature_9  \n",
       "0              0          1  \n",
       "1              0          0  \n",
       "2              0          2  \n",
       "3              0          0  \n",
       "4              0          0  \n",
       "...          ...        ...  \n",
       "83434          0          0  \n",
       "83435          0          1  \n",
       "83436          0          0  \n",
       "83437          0          0  \n",
       "83438          1          0  \n",
       "\n",
       "[83439 rows x 20 columns]"
      ]
     },
     "execution_count": 22,
     "metadata": {},
     "output_type": "execute_result"
    }
   ],
   "source": [
    "new_data"
   ]
  },
  {
   "cell_type": "code",
   "execution_count": 23,
   "metadata": {},
   "outputs": [],
   "source": [
    "import os"
   ]
  },
  {
   "cell_type": "code",
   "execution_count": 24,
   "metadata": {},
   "outputs": [],
   "source": [
    "feature_path=os.path.join(EXPORT_FEATURES_DIR,\"feature_skills_clusters.pkl\")\n",
    "feature_path\n",
    "new_data.to_pickle(feature_path)"
   ]
  },
  {
   "cell_type": "code",
   "execution_count": 25,
   "metadata": {},
   "outputs": [
    {
     "data": {
      "text/plain": [
       "feature_0     [Julia, Matlab, Python, R, Django, FastAPI, Fl...\n",
       "feature_1     [Go, Rust, DynamoDB, PostgreSQL, Ansible, Dock...\n",
       "feature_10                            [Unity 3D, Unreal Engine]\n",
       "feature_11                                       [Svelte, Deno]\n",
       "feature_12                         [Chef, Flow, Pulumi, Puppet]\n",
       "feature_13               [Groovy, Java, Kotlin, Oracle, Spring]\n",
       "feature_14           [TypeScript, Angular, Angular.js, Cordova]\n",
       "feature_15                                [Ruby, Ruby on Rails]\n",
       "feature_16                            [Dart, Firebase, Flutter]\n",
       "feature_17                        [Scala, Apache Spark, Hadoop]\n",
       "feature_18                                   [Bash/Shell, Perl]\n",
       "feature_19                                 [Objective-C, Swift]\n",
       "feature_2     [C#, F#, PowerShell, SQL, VBA, Microsoft SQL S...\n",
       "feature_3     [Node.js, MongoDB, Express, Gatsby, React.js, ...\n",
       "feature_4     [PHP, MariaDB, MySQL, SQLite, Drupal, Laravel,...\n",
       "feature_5              [Clojure, Elixir, Erlang, Haskell, LISP]\n",
       "feature_6          [Cassandra, Couchbase, Elasticsearch, Redis]\n",
       "feature_7                        [HTML/CSS, JavaScript, jQuery]\n",
       "feature_8                [APL, COBOL, Crystal, Delphi, IBM DB2]\n",
       "feature_9                                [Assembly, C, C++, Qt]\n",
       "dtype: object"
      ]
     },
     "execution_count": 25,
     "metadata": {},
     "output_type": "execute_result"
    }
   ],
   "source": [
    "skills_clusters = tsne_projection.index.droplevel(0).to_series().groupby(predictions).apply(list)\n",
    "skills_clusters"
   ]
  },
  {
   "cell_type": "code",
   "execution_count": 26,
   "metadata": {},
   "outputs": [],
   "source": [
    "import yaml\n"
   ]
  },
  {
   "cell_type": "code",
   "execution_count": 27,
   "metadata": {},
   "outputs": [],
   "source": [
    "description_path = os.path.join(EXPORT_FEATURES_DIR, \"features_skills_clusters_description.yaml\")\n",
    "with open(description_path, 'w') as outfile:\n",
    "    yaml.dump(dict(skills_clusters), outfile)"
   ]
  },
  {
   "cell_type": "code",
   "execution_count": null,
   "metadata": {},
   "outputs": [],
   "source": []
  }
 ],
 "metadata": {
  "kernelspec": {
   "display_name": "base",
   "language": "python",
   "name": "python3"
  },
  "language_info": {
   "codemirror_mode": {
    "name": "ipython",
    "version": 3
   },
   "file_extension": ".py",
   "mimetype": "text/x-python",
   "name": "python",
   "nbconvert_exporter": "python",
   "pygments_lexer": "ipython3",
   "version": "3.11.5"
  }
 },
 "nbformat": 4,
 "nbformat_minor": 2
}
